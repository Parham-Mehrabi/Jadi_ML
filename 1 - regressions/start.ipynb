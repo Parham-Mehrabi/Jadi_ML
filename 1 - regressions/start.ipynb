{
 "cells": [
  {
   "cell_type": "markdown",
   "metadata": {},
   "source": [
    "# Regression\n",
    "\n",
    "regression is the process of predicting a continuous value"
   ]
  },
  {
   "cell_type": "markdown",
   "metadata": {},
   "source": [
    "in the end we will end up with a formula that can predict Y_i based on x1_i ... xn_i  \n",
    "that formula is called a <strong>Model</strong>"
   ]
  },
  {
   "cell_type": "markdown",
   "metadata": {},
   "source": [
    "Regressions can be either simple(only one independent) or multiple(multiple independent):\n",
    "<ul>\n",
    "    <li>\n",
    "        simple: <ul>\n",
    "            <li>Linear</li>\n",
    "            <li>Non-Linear</li>\n",
    "        </ul>\n",
    "    </li>\n",
    "    <li>\n",
    "        multiple <ul>\n",
    "            <li>Linear</li>\n",
    "            <li>Non-Linear</li>\n",
    "        </ul>\n",
    "    </li>\n",
    "</ul>"
   ]
  },
  {
   "cell_type": "markdown",
   "metadata": {},
   "source": []
  }
 ],
 "metadata": {
  "kernelspec": {
   "display_name": "Python 3",
   "language": "python",
   "name": "python3"
  },
  "language_info": {
   "codemirror_mode": {
    "name": "ipython",
    "version": 3
   },
   "file_extension": ".py",
   "mimetype": "text/x-python",
   "name": "python",
   "nbconvert_exporter": "python",
   "pygments_lexer": "ipython3",
   "version": "3.10.12"
  }
 },
 "nbformat": 4,
 "nbformat_minor": 2
}
