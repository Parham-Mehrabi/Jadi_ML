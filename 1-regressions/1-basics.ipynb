{
 "cells": [
  {
   "cell_type": "markdown",
   "metadata": {},
   "source": [
    "# Regression\n",
    "\n",
    "regression is the process of predicting a continuous value  \n",
    "\n",
    "$ Y_{i} = \\beta_{0} + \\beta_{1}X_{i} $  \n",
    "$ \\beta_{0} = Intercept $  \n",
    "$ \\beta_{1} = Slope(Coefficient) $\n",
    "\n",
    "<hr/>"
   ]
  },
  {
   "cell_type": "markdown",
   "metadata": {},
   "source": [
    "- A regression is a statistical technique that relates a dependent variable to one or more independent (explanatory) variables\n",
    "- A regression model is able to show whether changes observed in the dependent variable are associated with changes in one or more of the explanatory variables."
   ]
  },
  {
   "cell_type": "markdown",
   "metadata": {},
   "source": [
    "Regressions can be either simple(only one independent) or multiple(multiple independent):\n",
    "<ul>\n",
    "    <li>\n",
    "        simple: <ul>\n",
    "            <li>Linear</li>\n",
    "            <li>Non-Linear</li>\n",
    "        </ul>\n",
    "    </li>\n",
    "    <li>\n",
    "        multiple <ul>\n",
    "            <li>Linear</li>\n",
    "            <li>Non-Linear</li>\n",
    "        </ul>\n",
    "    </li>\n",
    "</ul>\n",
    "<small>if we try to calculate something(y) based on a single factor(x) its Linear for example calculating chance for a disease based on a symptom</small>\n",
    "<hr/>"
   ]
  },
  {
   "cell_type": "markdown",
   "metadata": {},
   "source": [
    "# Model Evaluation\n",
    "- goal is to build a model to accurately predict an unknown case\n",
    "- you need to evaluate to see how much you can trust your model/prediction\n",
    "- two main methods:\n",
    "    - Train and Test on same data\n",
    "        - train on all the samples we have\n",
    "        - high \"training accuracy\"\n",
    "            - not always good because we may over-fit our data\n",
    "        - low \"out of sample accuracy\" \n",
    "        \n",
    "    - Train / Test split\n",
    "        - split data and train on a portion and test on the other\n",
    "        - more accurate on out-of-sample\n",
    "        \n",
    "\n",
    "## How To Calculate ERROR\n",
    "\n",
    "- <strong> MAE</strong>:\n",
    "    - <strong> Mean Absolute Error</strong>\n",
    "    - $ \\frac{1}{n} \\sum_{i=n}^{n} |y_{i} - \\hat y_{i}| $\n",
    "    - its just calculate the absolute value so negative and positive errors don't cancel each other.\n",
    "    - Gives equal weight to all errors.\n",
    "    - Robust to outliers because it doesn't heavily penalize large errors.\n",
    "\n",
    "    <br/>\n",
    "\n",
    "- <strong> MSE</strong>:\n",
    "    - <strong> Mean Squared Error</strong> :\n",
    "    - $ \\frac{1}{n} \\sum_{i=n}^{n} (y_i - \\hat{y}_i)^2 $  \n",
    "    - Measures the average squared differences between actual and predicted values.\n",
    "    - Squaring the errors gives more weight to larger errors, making it sensitive to outliers.\n",
    "    - Often used in optimization problems because of its differentiability.\n",
    "    <br/>\n",
    "\n",
    "- <strong> RMSE </strong>\n",
    "    - <strong> Root Mean Squared Error</strong>\n",
    "    - $ \\sqrt{MSE} $\n",
    "    - Derived from MSE, it represents the square root of the average squared differences between actual and predicted values.\n",
    "    - Like MSE, it gives more weight to larger errors but is in the original unit of the data.\n",
    "    - Commonly used when a metric in the original data unit is preferred.\n",
    "\n",
    "    <br/>\n",
    "- <strong> RAE </strong>\n",
    "    - <strong> Relative Absolute Error</strong>\n",
    "    - $ \\frac {\\frac{1}{n} \\sum_{i=n}^{n} |y_{i} - \\hat y_{i}|} {\\frac{1}{n} \\sum_{i=n}^{n} |y_{i} - \\bar y_{i}|} $\n",
    "    - Measures the proportion of absolute prediction error relative to the absolute error of the mean model.\n",
    "    - Provides a ratio of how well the model performs compared to a naive mean model.\n",
    "    - A lower RAE indicates a better model.\n",
    "\n",
    "    <br/>\n",
    "- <strong> RSE </strong>\n",
    "    - <strong> Relative Squared Error</strong>\n",
    "    - $ \\frac {\\frac{1}{n} \\sum_{i=n}^{n} (y_{i} - \\hat y_{i})^2} {\\frac{1}{n} \\sum_{i=n}^{n} (y_{i} - \\bar y_{i})^2} $\n",
    "    - Similar to RAE but uses squared differences.\n",
    "    - Measures the proportion of squared prediction error relative to the squared error of the mean model.\n",
    "    - A lower RSE indicates a better model.\n",
    "\n",
    "    <br/>\n",
    "    <br/>\n",
    "\n",
    "- ### Coefficient of Determination:  \n",
    "- $ R = \\sqrt{1 - RSE}  => R^2 = 1 - RSE   $\n",
    "- Represents the proportion of the variance in the dependent variable that is predictable from the independent variables.\n",
    "- Ranges from 0 to 1, where 1 indicates a perfect fit.\n",
    "\n",
    "<hr/>"
   ]
  }
 ],
 "metadata": {
  "kernelspec": {
   "display_name": "Python 3",
   "language": "python",
   "name": "python3"
  },
  "language_info": {
   "codemirror_mode": {
    "name": "ipython",
    "version": 3
   },
   "file_extension": ".py",
   "mimetype": "text/x-python",
   "name": "python",
   "nbconvert_exporter": "python",
   "pygments_lexer": "ipython3",
   "version": "3.10.12"
  }
 },
 "nbformat": 4,
 "nbformat_minor": 2
}
