{
 "cells": [
  {
   "cell_type": "markdown",
   "id": "5263fb49-136d-4f30-9bd9-5dbb0e767d85",
   "metadata": {},
   "source": [
    "# Tehran houses' price project"
   ]
  },
  {
   "cell_type": "markdown",
   "id": "5b1c5dc8-2a2d-4ffc-8634-c20d19db4aee",
   "metadata": {},
   "source": [
    "### import modules"
   ]
  },
  {
   "cell_type": "code",
   "execution_count": 1,
   "id": "d38a2004-7879-407d-a78e-5e0135950aa7",
   "metadata": {},
   "outputs": [],
   "source": [
    "import numpy as np\n",
    "import pandas as pd"
   ]
  },
  {
   "cell_type": "code",
   "execution_count": null,
   "id": "2f8f55ed-eadf-4840-974d-81b110525f13",
   "metadata": {},
   "outputs": [],
   "source": [
    "pd.load"
   ]
  }
 ],
 "metadata": {
  "kernelspec": {
   "display_name": "Python 3 (ipykernel)",
   "language": "python",
   "name": "python3"
  },
  "language_info": {
   "codemirror_mode": {
    "name": "ipython",
    "version": 3
   },
   "file_extension": ".py",
   "mimetype": "text/x-python",
   "name": "python",
   "nbconvert_exporter": "python",
   "pygments_lexer": "ipython3",
   "version": "3.10.12"
  }
 },
 "nbformat": 4,
 "nbformat_minor": 5
}
