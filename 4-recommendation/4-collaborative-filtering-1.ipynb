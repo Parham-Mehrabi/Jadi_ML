{
 "cells": [
  {
   "cell_type": "markdown",
   "metadata": {},
   "source": [
    "# Collaborative Filtering\n",
    "\n",
    "\n",
    "__there are two main types:__\n",
    "1. User Based\n",
    "2. Item-Based\n",
    "\n",
    "\n",
    "#### User Based:\n",
    "- Based on the user's similarity or neighborhoods\n",
    "- Finds similarity between users (e.g liking history)\n",
    "\n",
    "<br/>\n",
    "\n",
    "\n",
    "#### Item Based:\n",
    "- based on items similarity\n",
    "\n",
    "\n",
    "<br/>\n",
    "<hr/>\n",
    "\n",
    "\n",
    "## User Based:\n",
    "1. first we need a __Ratings Matrix__ from people who saw movies and already rated them\n",
    "2. then we need __Similarity Matrix__ where we find out how people are similar to the user (the dude we are going to calculate it for)\n",
    "3. then we multiply similarity matrix to rating matrix for movies which our target hasnt watched yet, the result is __Weighted Ratings Matrix__\n",
    "4. then we __sum up__ all rates for each movie and then __divide the result__ to sum of all the voter's similarity (to target user) score from Similarity Matrix\n",
    "5. the result is called __Recommendation Matrix__\n",
    "\n",
    "\n",
    "<br/>\n",
    "<hr/> \n",
    "\n",
    "\n",
    "## Item Based:\n",
    "- in this method we dont care about item itself(like CBF), instead, we check which items go together\n",
    "- for example usually user's who buy a laptop, they also buy a keyboard, so there is a connection between laptop and keyboard so we can recommend keyboards to who ever buy laptop\n",
    "\n",
    "<hr/>\n",
    "<br/>\n",
    "\n",
    "__cons:__\n",
    "- Data Sparsity\n",
    "    - Large users but they are rating only a limited number of items\n",
    "- Cold start\n",
    "    - what if a new user join the system? what if a new item added?\n",
    "- Stability\n",
    "    - Drops performance when items/users are increased. Matrix become larger and larger\n",
    "\n",
    "- there are solutions like using hybrid solutions\n",
    "\n"
   ]
  }
 ],
 "metadata": {
  "language_info": {
   "name": "python"
  }
 },
 "nbformat": 4,
 "nbformat_minor": 2
}
