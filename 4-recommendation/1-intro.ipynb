{
 "cells": [
  {
   "cell_type": "markdown",
   "metadata": {},
   "source": [
    "# Recommendation System\n",
    "\n",
    "\n",
    "A recommendation system (or recommender system) is a class of machine learning that uses data to help predict, narrow down, and find what people are looking for among an exponentially growing number of options.  \n",
    "\n",
    "<br/>\n",
    "<br/>\n",
    "\n",
    "- Peoples tastes follow patterns (say books)\n",
    "- Recommendation Systems capture the pattern of people's behavior and use it to predict what else they might want or like\n",
    "- Many Applications. Netflix, Amazon, FaceBook, Twitter, News, etc\n",
    "\n",
    "<br/>\n",
    "<br/>\n",
    "\n",
    "## there are some main types for recommendation systems:\n",
    "\n",
    "1. Content Based (CBF)\n",
    "2. Collaborative (CF)\n",
    "\n",
    "__CBF:__ Content Based Filtering looks for similar contents to recommend items\n",
    "\n",
    "__CF:__ Collaborative Filtering looks for similar users to recommend items   \n"
   ]
  }
 ],
 "metadata": {
  "language_info": {
   "name": "python"
  }
 },
 "nbformat": 4,
 "nbformat_minor": 2
}
