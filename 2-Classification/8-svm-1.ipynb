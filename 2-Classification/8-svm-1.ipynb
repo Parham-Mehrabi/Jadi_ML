{
 "cells": [
  {
   "cell_type": "markdown",
   "metadata": {},
   "source": [
    "# Support Vector Machines\n",
    "\n",
    "- Supervised\n",
    "- Classifier based on separator\n",
    "- mapping data to a high-dimensional so a hyperplane can be drawn\n",
    "- their target (y) is also categorical \n"
   ]
  },
  {
   "cell_type": "code",
   "execution_count": 1,
   "metadata": {},
   "outputs": [],
   "source": [
    "import matplotlib.pyplot as plt\n",
    "import numpy as np "
   ]
  },
  {
   "cell_type": "markdown",
   "metadata": {},
   "source": [
    "### imagine we have a data set that plot like this:"
   ]
  },
  {
   "cell_type": "code",
   "execution_count": 2,
   "metadata": {},
   "outputs": [
    {
     "data": {
      "image/png": "[encoded data removed]",
      "text/plain": [
       "<Figure size 432x288 with 1 Axes>"
      ]
     },
     "metadata": {
      "needs_background": "light"
     },
     "output_type": "display_data"
    }
   ],
   "source": [
    "x1 = np.arange(-20, -10)\n",
    "x2 = np.arange(-10, 11)\n",
    "x3 = np.arange(11, 20)\n",
    "x4 = np.concatenate((x1, x3))\n",
    "plt.plot(x4, x4-x4 + 1, 'o')\n",
    "plt.plot(x2, x2-x2 + 1, 'o', color='orange')\n",
    "plt.show()"
   ]
  },
  {
   "cell_type": "markdown",
   "metadata": {},
   "source": [
    "### and we want to separate oranges and blues, its a 1D data maybe if we look it from other side we can do something about it:"
   ]
  },
  {
   "cell_type": "code",
   "execution_count": 3,
   "metadata": {},
   "outputs": [
    {
     "data": {
      "image/png": "[encoded data removed]",
      "text/plain": [
       "<Figure size 432x288 with 1 Axes>"
      ]
     },
     "metadata": {
      "needs_background": "light"
     },
     "output_type": "display_data"
    }
   ],
   "source": [
    "plt.plot(x4, x4**2, 'o')\n",
    "plt.plot(x2, x2**2 , 'o', color='orange')\n",
    "plt.hlines(100, -20, 20, color='red')\n",
    "plt.show()"
   ]
  },
  {
   "cell_type": "markdown",
   "metadata": {},
   "source": [
    "but how we should do it in other examples?\n",
    "this action is called kernelization or kernel trick.\n",
    "idea is to map the original input features into a higher-dimensional space using a function called a kernel function.\n",
    "there are different kernel functions out there to do this :\n",
    " - Linear\n",
    " - Polynomial\n",
    " - RBF(Radial Basis Function)\n",
    " - sigmoid\n",
    "\n",
    "these kernels enable SVM to handle non-linear decision boundaries in the input space by implicitly transforming the data into a higher-dimensional space.\n",
    "\n",
    "after dimensionality expansion we should try to create a line which has the most possible distance between all groups\n",
    "\n",
    "### that line (or disk if its more than 2D) is called __HyperPlane__\n",
    "\n",
    "SVM has some pros and cons :  \n",
    "- pros:\n",
    "    1. accurate in high dimension spaces\n",
    "    2. memory efficient\n",
    "- const:\n",
    "    1. prone to over-fitting if we have lots of features\n",
    "    2. no probability estimation\n",
    "    3. not computationally efficient for large dataset (n > 1000)\n",
    "    \n",
    "SVM uses:\n",
    " - image recognition\n",
    " - text category assignment\n",
    "    - spam\n",
    "    - category\n",
    "    - sentiment analysis\n",
    "- gene expression classification\n",
    "- outliner detection and clustering\n",
    "\n",
    "\n"
   ]
  },
  {
   "cell_type": "markdown",
   "metadata": {},
   "source": []
  }
 ],
 "metadata": {
  "kernelspec": {
   "display_name": "Python 3",
   "language": "python",
   "name": "python3"
  },
  "language_info": {
   "codemirror_mode": {
    "name": "ipython",
    "version": 3
   },
   "file_extension": ".py",
   "mimetype": "text/x-python",
   "name": "python",
   "nbconvert_exporter": "python",
   "pygments_lexer": "ipython3",
   "version": "3.10.12"
  }
 },
 "nbformat": 4,
 "nbformat_minor": 2
}
