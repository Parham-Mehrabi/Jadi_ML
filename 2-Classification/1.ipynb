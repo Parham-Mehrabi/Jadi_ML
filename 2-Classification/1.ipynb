{
 "cells": [
  {
   "cell_type": "markdown",
   "metadata": {},
   "source": [
    "# Classification  \n",
    "- In machine learning, classification refers to a predictive modeling problem where a class label is predicted for a given example of input data\n",
    "- Classification is a supervised machine learning method where the model tries to predict the correct label of a given input data. In classification, the model is fully    trained using the training data, and then it is evaluated on test data before being used to perform prediction on new unseen data.\n",
    "## we use classification when our Y is categorical\n",
    "- for example when bank classify its costumers into specific groups\n",
    "- the other example is when you want to give a patient an specific medicine  \n",
    "\n",
    "there are lots of different method to do classification some of them are as follow:\n",
    "1. Eager learners:\n",
    "    - Logistic Regression\n",
    "    - Support Vector Machine(SVM)\n",
    "    - Decision Trees\n",
    "    - Artificial Neural Networks\n",
    "2. Lazy learners:\n",
    "    - K-Nearest Neighbor(KNN)\n",
    "    - Case-based Reasoning\n",
    "\n",
    "\n",
    "### Classification VS Regression:\n",
    " - The prediction task is a __Classification__ when the target is discrete(categorical).\n",
    " - The prediction task is a __Regression__ when the target is continuos."
   ]
  }
 ],
 "metadata": {
  "language_info": {
   "name": "python"
  }
 },
 "nbformat": 4,
 "nbformat_minor": 2
}
