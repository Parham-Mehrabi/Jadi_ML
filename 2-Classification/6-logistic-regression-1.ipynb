{
 "cells": [
  {
   "cell_type": "markdown",
   "metadata": {},
   "source": [
    "# Logistic Regression\n",
    "\n",
    "- close to regular regression but here, Y is categorical\n",
    "- all Xs should be either continues or converted to continues\n",
    "\n",
    "how does it work:\n",
    "1. initialize $ \\theta.  $\n",
    "2. calculate $ \\hat{y} = \\sigma (\\theta^T X) $ \n",
    "3. compare the output of $ \\hat{y} $ with actual $ y $ and record its error\n",
    "4. calculate the error for all costumers\n",
    "5. change the $ \\theta $ to reduce the error.\n",
    "6. go back to step 2\n",
    "\n",
    "### cost function:\n",
    "we can calculate the error like this  \n",
    "$ J(\\theta) = -\\frac{1}{m} \\sum_{i=1}^{m} \\left[ y^{(i)} \\log(h_\\theta(x^{(i)})) + (1 - y^{(i)}) \\log(1 - h_\\theta(x^{(i)})) \\right] $\n"
   ]
  },
  {
   "cell_type": "markdown",
   "metadata": {},
   "source": []
  }
 ],
 "metadata": {
  "language_info": {
   "name": "python"
  }
 },
 "nbformat": 4,
 "nbformat_minor": 2
}
