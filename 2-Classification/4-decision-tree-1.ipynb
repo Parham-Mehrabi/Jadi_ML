{
 "cells": [
  {
   "cell_type": "markdown",
   "metadata": {},
   "source": [
    "# Decision Tree"
   ]
  },
  {
   "cell_type": "code",
   "execution_count": 1,
   "metadata": {},
   "outputs": [],
   "source": [
    "from math import log"
   ]
  },
  {
   "cell_type": "markdown",
   "metadata": {},
   "source": [
    "a Decision Tree is a map of possible outcomes from our different choices, in this approach we ask questions from our query to reach a certain point we can declare its label\n",
    "\n",
    "<img src='./img2.png' width = 600px>\n",
    "\n",
    "but how we now which question we should ask first?\n",
    "### the good question's result have: \n",
    " - more Predictiveness\n",
    " - less Impurity\n",
    " - lower Entropy \n",
    "   \n",
    "<img src='./img3.png' width = 400px>\n",
    "\n",
    "Entropy(a, b) = $ -p(a) \\log(a, 2) - p(b) \\log(b, 2) $\n",
    "for example the entropy of the image for \"Balance $ \\ge $ 50K\", we can calculate it manually or use sklearn.stats.entropy:\n"
   ]
  },
  {
   "cell_type": "code",
   "execution_count": 2,
   "metadata": {},
   "outputs": [
    {
     "name": "stdout",
     "output_type": "stream",
     "text": [
      "0.7871265862012691\n",
      "0.787126586201269\n"
     ]
    }
   ],
   "source": [
    "E = (-4/17) * log(4/17, 2) - (13/17) * log(13/17, 2)\n",
    "from scipy.stats import entropy\n",
    "\n",
    "E_sklearn = entropy([4/17, 13/17], base=2)\n",
    "\n",
    "print(E)\n",
    "print(E_sklearn)"
   ]
  },
  {
   "cell_type": "markdown",
   "metadata": {},
   "source": [
    "## the one with most information gain\n",
    "\n",
    "__information gain__ is the information that can increase the level of certainty after splitting.\n",
    "\n",
    "IG = Entropy before splitting - Weighted Entropy after split.\n",
    "\n",
    "for example in previous example the node had 17 items if the whole items would be 30, the __weighted entropy__ would be equal to $ (17/30) * E $\n",
    "\n",
    "<hr/>\n",
    "\n",
    "lets Calculate it on an example:  \n",
    "\n",
    "<img src='./img4.png' width=750px>  \n",
    "\n",
    "here we can see ig for the left side is better so we will ask about sex instead of cholesterol"
   ]
  }
 ],
 "metadata": {
  "kernelspec": {
   "display_name": "Python 3",
   "language": "python",
   "name": "python3"
  },
  "language_info": {
   "codemirror_mode": {
    "name": "ipython",
    "version": 3
   },
   "file_extension": ".py",
   "mimetype": "text/x-python",
   "name": "python",
   "nbconvert_exporter": "python",
   "pygments_lexer": "ipython3",
   "version": "3.10.12"
  }
 },
 "nbformat": 4,
 "nbformat_minor": 2
}
