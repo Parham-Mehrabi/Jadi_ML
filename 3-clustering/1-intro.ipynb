{
 "cells": [
  {
   "cell_type": "markdown",
   "metadata": {},
   "source": [
    "# Clustering\n",
    "\n",
    "- unsupervised\n",
    "- finding clusters in datasets\n",
    "- different than classification:\n",
    "    - no need to be labeled\n",
    "    - prediction is not the goal  \n",
    "\n",
    "samples:\n",
    " - Retail & Marketing: identify buying patterns / recommendation systems\n",
    " - Banking: Fraud detection / identify clusters (loyal, churn, ...)\n",
    " - Insurance: Fraud detection / Risk\n",
    " - publication: auto-categorize / recommend\n",
    " - Medicine: characterize behavior\n",
    " - Biology: group genes / cluster genetic markers (family ties)  \n",
    "\n",
    "\n",
    "use cases:\n",
    "- Exploratory data analysis  \n",
    "- summery generation  \n",
    "- outlier detection  \n",
    "- finding duplicates  \n",
    "- pre-processing step  \n",
    "\n",
    "\n",
    "\n",
    "Algorithms:\n",
    "- Partition-Based (K-means, K-Median, Fuzzy c-means, ...):  \n",
    "    - sphere like clusters  \n",
    "    - Medium or Large data  \n",
    "\n",
    "- Hierarchical (Agglomerative, Divisive):  \n",
    "    - Trees of clusters  \n",
    "    - small size datasets  \n",
    "\n",
    "- Density-based (DBSCAN):    \n",
    "    - arbitrary shaped  \n",
    "    - good for special datasets or noisy data  \n",
    "\n"
   ]
  }
 ],
 "metadata": {
  "language_info": {
   "name": "python"
  }
 },
 "nbformat": 4,
 "nbformat_minor": 2
}
