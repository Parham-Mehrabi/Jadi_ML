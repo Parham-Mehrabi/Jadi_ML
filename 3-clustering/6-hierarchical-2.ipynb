{
 "cells": [
  {
   "cell_type": "markdown",
   "metadata": {},
   "source": [
    "# hierarchial example:"
   ]
  },
  {
   "cell_type": "code",
   "execution_count": 1,
   "metadata": {},
   "outputs": [],
   "source": [
    "import numpy as np \n",
    "import pandas as pd\n",
    "import matplotlib.pyplot as plt\n",
    "from sklearn.datasets import make_blobs\n",
    "from sklearn.cluster import AgglomerativeClustering \n",
    "from scipy.spatial import distance_matrix \n",
    "from scipy.cluster import hierarchy \n"
   ]
  },
  {
   "cell_type": "code",
   "execution_count": 2,
   "metadata": {},
   "outputs": [],
   "source": [
    "X1, y1 = make_blobs(n_samples=50, centers=[[4,4], [-2, -1], [1, 1], [10,4]], cluster_std=0.9)"
   ]
  },
  {
   "cell_type": "code",
   "execution_count": 3,
   "metadata": {},
   "outputs": [
    {
     "data": {
      "text/plain": [
       "<matplotlib.collections.PathCollection at 0x79a62c58c670>"
      ]
     },
     "execution_count": 3,
     "metadata": {},
     "output_type": "execute_result"
    },
    {
     "data": {
      "image/png": "[encoded data removed]",
      "text/plain": [
       "<Figure size 432x288 with 1 Axes>"
      ]
     },
     "metadata": {
      "needs_background": "light"
     },
     "output_type": "display_data"
    }
   ],
   "source": [
    "plt.scatter(X1[:, 0], X1[:, 1], marker='o') \n"
   ]
  },
  {
   "cell_type": "code",
   "execution_count": 4,
   "metadata": {},
   "outputs": [],
   "source": [
    "agglom = AgglomerativeClustering(n_clusters = 4, linkage = 'average')\n"
   ]
  },
  {
   "cell_type": "code",
   "execution_count": 5,
   "metadata": {},
   "outputs": [
    {
     "data": {
      "text/html": [
       "<style>#sk-container-id-1 {color: black;}#sk-container-id-1 pre{padding: 0;}#sk-container-id-1 div.sk-toggleable {background-color: white;}#sk-container-id-1 label.sk-toggleable__label {cursor: pointer;display: block;width: 100%;margin-bottom: 0;padding: 0.3em;box-sizing: border-box;text-align: center;}#sk-container-id-1 label.sk-toggleable__label-arrow:before {content: \"▸\";float: left;margin-right: 0.25em;color: #696969;}#sk-container-id-1 label.sk-toggleable__label-arrow:hover:before {color: black;}#sk-container-id-1 div.sk-estimator:hover label.sk-toggleable__label-arrow:before {color: black;}#sk-container-id-1 div.sk-toggleable__content {max-height: 0;max-width: 0;overflow: hidden;text-align: left;background-color: #f0f8ff;}#sk-container-id-1 div.sk-toggleable__content pre {margin: 0.2em;color: black;border-radius: 0.25em;background-color: #f0f8ff;}#sk-container-id-1 input.sk-toggleable__control:checked~div.sk-toggleable__content {max-height: 200px;max-width: 100%;overflow: auto;}#sk-container-id-1 input.sk-toggleable__control:checked~label.sk-toggleable__label-arrow:before {content: \"▾\";}#sk-container-id-1 div.sk-estimator input.sk-toggleable__control:checked~label.sk-toggleable__label {background-color: #d4ebff;}#sk-container-id-1 div.sk-label input.sk-toggleable__control:checked~label.sk-toggleable__label {background-color: #d4ebff;}#sk-container-id-1 input.sk-hidden--visually {border: 0;clip: rect(1px 1px 1px 1px);clip: rect(1px, 1px, 1px, 1px);height: 1px;margin: -1px;overflow: hidden;padding: 0;position: absolute;width: 1px;}#sk-container-id-1 div.sk-estimator {font-family: monospace;background-color: #f0f8ff;border: 1px dotted black;border-radius: 0.25em;box-sizing: border-box;margin-bottom: 0.5em;}#sk-container-id-1 div.sk-estimator:hover {background-color: #d4ebff;}#sk-container-id-1 div.sk-parallel-item::after {content: \"\";width: 100%;border-bottom: 1px solid gray;flex-grow: 1;}#sk-container-id-1 div.sk-label:hover label.sk-toggleable__label {background-color: #d4ebff;}#sk-container-id-1 div.sk-serial::before {content: \"\";position: absolute;border-left: 1px solid gray;box-sizing: border-box;top: 0;bottom: 0;left: 50%;z-index: 0;}#sk-container-id-1 div.sk-serial {display: flex;flex-direction: column;align-items: center;background-color: white;padding-right: 0.2em;padding-left: 0.2em;position: relative;}#sk-container-id-1 div.sk-item {position: relative;z-index: 1;}#sk-container-id-1 div.sk-parallel {display: flex;align-items: stretch;justify-content: center;background-color: white;position: relative;}#sk-container-id-1 div.sk-item::before, #sk-container-id-1 div.sk-parallel-item::before {content: \"\";position: absolute;border-left: 1px solid gray;box-sizing: border-box;top: 0;bottom: 0;left: 50%;z-index: -1;}#sk-container-id-1 div.sk-parallel-item {display: flex;flex-direction: column;z-index: 1;position: relative;background-color: white;}#sk-container-id-1 div.sk-parallel-item:first-child::after {align-self: flex-end;width: 50%;}#sk-container-id-1 div.sk-parallel-item:last-child::after {align-self: flex-start;width: 50%;}#sk-container-id-1 div.sk-parallel-item:only-child::after {width: 0;}#sk-container-id-1 div.sk-dashed-wrapped {border: 1px dashed gray;margin: 0 0.4em 0.5em 0.4em;box-sizing: border-box;padding-bottom: 0.4em;background-color: white;}#sk-container-id-1 div.sk-label label {font-family: monospace;font-weight: bold;display: inline-block;line-height: 1.2em;}#sk-container-id-1 div.sk-label-container {text-align: center;}#sk-container-id-1 div.sk-container {/* jupyter's `normalize.less` sets `[hidden] { display: none; }` but bootstrap.min.css set `[hidden] { display: none !important; }` so we also need the `!important` here to be able to override the default hidden behavior on the sphinx rendered scikit-learn.org. See: https://github.com/scikit-learn/scikit-learn/issues/21755 */display: inline-block !important;position: relative;}#sk-container-id-1 div.sk-text-repr-fallback {display: none;}</style><div id=\"sk-container-id-1\" class=\"sk-top-container\"><div class=\"sk-text-repr-fallback\"><pre>AgglomerativeClustering(linkage=&#x27;average&#x27;, n_clusters=4)</pre><b>In a Jupyter environment, please rerun this cell to show the HTML representation or trust the notebook. <br />On GitHub, the HTML representation is unable to render, please try loading this page with nbviewer.org.</b></div><div class=\"sk-container\" hidden><div class=\"sk-item\"><div class=\"sk-estimator sk-toggleable\"><input class=\"sk-toggleable__control sk-hidden--visually\" id=\"sk-estimator-id-1\" type=\"checkbox\" checked><label for=\"sk-estimator-id-1\" class=\"sk-toggleable__label sk-toggleable__label-arrow\">AgglomerativeClustering</label><div class=\"sk-toggleable__content\"><pre>AgglomerativeClustering(linkage=&#x27;average&#x27;, n_clusters=4)</pre></div></div></div></div></div>"
      ],
      "text/plain": [
       "AgglomerativeClustering(linkage='average', n_clusters=4)"
      ]
     },
     "execution_count": 5,
     "metadata": {},
     "output_type": "execute_result"
    }
   ],
   "source": [
    "agglom.fit(X1,y1)\n"
   ]
  },
  {
   "cell_type": "code",
   "execution_count": 6,
   "metadata": {},
   "outputs": [
    {
     "data": {
      "image/png": "[encoded data removed]",
      "text/plain": [
       "<Figure size 432x288 with 1 Axes>"
      ]
     },
     "metadata": {},
     "output_type": "display_data"
    }
   ],
   "source": [
    "# Create a figure of size 6 inches by 4 inches.\n",
    "plt.figure(figsize=(6,4))\n",
    "\n",
    "# These two lines of code are used to scale the data points down,\n",
    "# Or else the data points will be scattered very far apart.\n",
    "\n",
    "# Create a minimum and maximum range of X1.\n",
    "x_min, x_max = np.min(X1, axis=0), np.max(X1, axis=0)\n",
    "\n",
    "# Get the average distance for X1.\n",
    "X1 = (X1 - x_min) / (x_max - x_min)\n",
    "\n",
    "# This loop displays all of the datapoints.\n",
    "for i in range(X1.shape[0]):\n",
    "    # Replace the data points with their respective cluster value \n",
    "    # (ex. 0) and is color coded with a colormap (plt.cm.spectral)\n",
    "    plt.text(X1[i, 0], X1[i, 1], str(y1[i]),\n",
    "             color=plt.cm.nipy_spectral(agglom.labels_[i] / 10.),\n",
    "             fontdict={'weight': 'bold', 'size': 9})\n",
    "    \n",
    "# Remove the x ticks, y ticks, x and y axis\n",
    "plt.xticks([])\n",
    "plt.yticks([])\n",
    "#plt.axis('off')\n",
    "\n",
    "\n",
    "\n",
    "# Display the plot of the original data before clustering\n",
    "plt.scatter(X1[:, 0], X1[:, 1], marker='.')\n",
    "# Display the plot\n",
    "plt.show()"
   ]
  },
  {
   "cell_type": "code",
   "execution_count": 7,
   "metadata": {},
   "outputs": [
    {
     "data": {
      "text/plain": [
       "array([[0.        , 0.77362862, 0.7438639 , ..., 0.24591913, 0.54175613,\n",
       "        0.16327942],\n",
       "       [0.77362862, 0.        , 0.09881646, ..., 0.54968446, 0.24404201,\n",
       "        0.78450887],\n",
       "       [0.7438639 , 0.09881646, 0.        , ..., 0.50755401, 0.25360708,\n",
       "        0.73528186],\n",
       "       ...,\n",
       "       [0.24591913, 0.54968446, 0.50755401, ..., 0.        , 0.34158923,\n",
       "        0.23743986],\n",
       "       [0.54175613, 0.24404201, 0.25360708, ..., 0.34158923, 0.        ,\n",
       "        0.57806111],\n",
       "       [0.16327942, 0.78450887, 0.73528186, ..., 0.23743986, 0.57806111,\n",
       "        0.        ]])"
      ]
     },
     "execution_count": 7,
     "metadata": {},
     "output_type": "execute_result"
    }
   ],
   "source": [
    "dist_matrix = distance_matrix(X1,X1) \n",
    "dist_matrix\n"
   ]
  },
  {
   "cell_type": "code",
   "execution_count": 8,
   "metadata": {},
   "outputs": [
    {
     "name": "stderr",
     "output_type": "stream",
     "text": [
      "/tmp/ipykernel_23636/2842153072.py:1: ClusterWarning: scipy.cluster: The symmetric non-negative hollow observation matrix looks suspiciously like an uncondensed distance matrix\n",
      "  Z = hierarchy.linkage(dist_matrix, 'complete')\n"
     ]
    },
    {
     "data": {
      "text/plain": [
       "array([[7.00000000e+00, 4.30000000e+01, 2.04436840e-02, 2.00000000e+00],\n",
       "       [8.00000000e+00, 2.00000000e+01, 3.72723629e-02, 2.00000000e+00],\n",
       "       [3.00000000e+01, 3.40000000e+01, 8.56592824e-02, 2.00000000e+00],\n",
       "       [2.70000000e+01, 3.60000000e+01, 8.91429424e-02, 2.00000000e+00],\n",
       "       [1.70000000e+01, 2.90000000e+01, 9.70623934e-02, 2.00000000e+00],\n",
       "       [3.20000000e+01, 3.50000000e+01, 1.08714020e-01, 2.00000000e+00],\n",
       "       [5.00000000e+00, 1.20000000e+01, 1.12209684e-01, 2.00000000e+00],\n",
       "       [1.90000000e+01, 2.50000000e+01, 1.19932444e-01, 2.00000000e+00],\n",
       "       [9.00000000e+00, 4.20000000e+01, 1.30041424e-01, 2.00000000e+00],\n",
       "       [1.00000000e+01, 4.70000000e+01, 1.51633193e-01, 2.00000000e+00],\n",
       "       [1.80000000e+01, 5.10000000e+01, 1.62441812e-01, 3.00000000e+00],\n",
       "       [4.80000000e+01, 5.50000000e+01, 1.66236850e-01, 3.00000000e+00],\n",
       "       [3.00000000e+00, 4.10000000e+01, 1.78702503e-01, 2.00000000e+00],\n",
       "       [2.30000000e+01, 3.80000000e+01, 2.09801012e-01, 2.00000000e+00],\n",
       "       [4.40000000e+01, 4.90000000e+01, 2.21859765e-01, 2.00000000e+00],\n",
       "       [2.60000000e+01, 5.90000000e+01, 2.24493148e-01, 3.00000000e+00],\n",
       "       [2.80000000e+01, 5.60000000e+01, 2.36178545e-01, 3.00000000e+00],\n",
       "       [3.70000000e+01, 3.90000000e+01, 2.36506960e-01, 2.00000000e+00],\n",
       "       [4.00000000e+01, 4.50000000e+01, 2.38439113e-01, 2.00000000e+00],\n",
       "       [5.40000000e+01, 6.00000000e+01, 2.70359988e-01, 5.00000000e+00],\n",
       "       [5.70000000e+01, 5.80000000e+01, 2.75132290e-01, 4.00000000e+00],\n",
       "       [5.00000000e+01, 6.70000000e+01, 3.30398086e-01, 4.00000000e+00],\n",
       "       [2.10000000e+01, 7.00000000e+01, 3.42532267e-01, 5.00000000e+00],\n",
       "       [6.30000000e+01, 6.50000000e+01, 3.49557718e-01, 5.00000000e+00],\n",
       "       [1.40000000e+01, 6.40000000e+01, 3.57571015e-01, 3.00000000e+00],\n",
       "       [5.30000000e+01, 6.10000000e+01, 3.77263978e-01, 5.00000000e+00],\n",
       "       [0.00000000e+00, 3.10000000e+01, 3.84530716e-01, 2.00000000e+00],\n",
       "       [5.20000000e+01, 6.20000000e+01, 4.01653912e-01, 4.00000000e+00],\n",
       "       [1.00000000e+00, 2.00000000e+00, 4.13908395e-01, 2.00000000e+00],\n",
       "       [1.10000000e+01, 4.60000000e+01, 4.86781643e-01, 2.00000000e+00],\n",
       "       [4.00000000e+00, 1.50000000e+01, 4.96688293e-01, 2.00000000e+00],\n",
       "       [6.60000000e+01, 6.90000000e+01, 5.10747378e-01, 8.00000000e+00],\n",
       "       [6.00000000e+00, 1.60000000e+01, 5.23048382e-01, 2.00000000e+00],\n",
       "       [2.20000000e+01, 7.70000000e+01, 5.32284606e-01, 5.00000000e+00],\n",
       "       [1.30000000e+01, 7.20000000e+01, 6.22727228e-01, 6.00000000e+00],\n",
       "       [7.40000000e+01, 7.60000000e+01, 7.05031280e-01, 5.00000000e+00],\n",
       "       [2.40000000e+01, 7.10000000e+01, 7.39051787e-01, 5.00000000e+00],\n",
       "       [7.80000000e+01, 8.40000000e+01, 8.87747055e-01, 8.00000000e+00],\n",
       "       [7.30000000e+01, 8.20000000e+01, 9.03682909e-01, 7.00000000e+00],\n",
       "       [3.30000000e+01, 7.50000000e+01, 9.24899031e-01, 6.00000000e+00],\n",
       "       [7.90000000e+01, 8.10000000e+01, 9.66657238e-01, 1.00000000e+01],\n",
       "       [8.50000000e+01, 8.60000000e+01, 1.34753074e+00, 1.00000000e+01],\n",
       "       [8.30000000e+01, 8.80000000e+01, 1.41471722e+00, 1.20000000e+01],\n",
       "       [6.80000000e+01, 9.00000000e+01, 1.46016754e+00, 1.20000000e+01],\n",
       "       [8.70000000e+01, 8.90000000e+01, 1.87249559e+00, 1.40000000e+01],\n",
       "       [8.00000000e+01, 9.10000000e+01, 2.21864125e+00, 1.20000000e+01],\n",
       "       [9.20000000e+01, 9.40000000e+01, 3.30787820e+00, 2.60000000e+01],\n",
       "       [9.30000000e+01, 9.60000000e+01, 4.58477533e+00, 3.80000000e+01],\n",
       "       [9.50000000e+01, 9.70000000e+01, 5.03816661e+00, 5.00000000e+01]])"
      ]
     },
     "execution_count": 8,
     "metadata": {},
     "output_type": "execute_result"
    }
   ],
   "source": [
    "Z = hierarchy.linkage(dist_matrix, 'complete')\n",
    "Z"
   ]
  },
  {
   "cell_type": "code",
   "execution_count": 9,
   "metadata": {},
   "outputs": [
    {
     "data": {
      "image/png": "[encoded data removed]",
      "text/plain": [
       "<Figure size 432x288 with 1 Axes>"
      ]
     },
     "metadata": {
      "needs_background": "light"
     },
     "output_type": "display_data"
    }
   ],
   "source": [
    "dendro = hierarchy.dendrogram(Z)\n"
   ]
  }
 ],
 "metadata": {
  "kernelspec": {
   "display_name": "Python 3",
   "language": "python",
   "name": "python3"
  },
  "language_info": {
   "codemirror_mode": {
    "name": "ipython",
    "version": 3
   },
   "file_extension": ".py",
   "mimetype": "text/x-python",
   "name": "python",
   "nbconvert_exporter": "python",
   "pygments_lexer": "ipython3",
   "version": "3.10.12"
  }
 },
 "nbformat": 4,
 "nbformat_minor": 2
}
