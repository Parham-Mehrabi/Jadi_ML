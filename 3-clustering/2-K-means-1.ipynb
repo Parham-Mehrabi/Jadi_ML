{
 "cells": [
  {
   "cell_type": "markdown",
   "metadata": {},
   "source": [
    "# K means\n",
    "- #### we need to understand the similarity and dissimilarity.\n",
    "- #### we want to divide people to k cluster with minimum similarity between members and create clusters with minimum similarity.\n",
    "    - minimize intra-cluster distances (Dis(x1, x2))\n",
    "    - maximize inter-cluster distances (Dis(c1, c2))\n",
    "- #### it is good to normalize data here\n",
    "\n",
    "\n",
    "\n",
    "## steps:\n",
    "### 1. decide the number of cluster (K)\n",
    "### 2. init K \"centroids\" by:\n",
    "- either random points from dataset\n",
    "- or random points\n",
    "### 3. assign each costumer to the closest centroid and create distance matrix\n",
    "### 4. SSE $ = \\sum_{1}^{n}{(x_i, c_j) ^ 2} $\n",
    "### 5. update centroid to the mean of this data-points\n",
    "### 6. continue till the centroids stop moving\n",
    "__notes__:\n",
    "- iterative\n",
    "- doesn't guarantee the best result. may catch a local optimum; but its fast so we can run it multiple times\n",
    "\n",
    "\n",
    "\n",
    "### how to determine K?\n",
    "- we either no the K before we clustering\n",
    "- or we can use \"elbow method\" like this:  \n",
    "    <img src= \"./elbow.png\" width=\"550px\">  \n",
    "    here the elbow is on k = 5  \n",
    "\n",
    "\n",
    "\n",
    "K-means summery:\n",
    "- partition based\n",
    "- unsupervised\n",
    "- medium and large datasets (relatively efficient)\n",
    "- sphere like clusters\n",
    "- K should be known / guessed\n"
   ]
  }
 ],
 "metadata": {
  "kernelspec": {
   "display_name": "Python 3",
   "language": "python",
   "name": "python3"
  },
  "language_info": {
   "codemirror_mode": {
    "name": "ipython",
    "version": 3
   },
   "file_extension": ".py",
   "mimetype": "text/x-python",
   "name": "python",
   "nbconvert_exporter": "python",
   "pygments_lexer": "ipython3",
   "version": "3.10.12"
  }
 },
 "nbformat": 4,
 "nbformat_minor": 2
}
