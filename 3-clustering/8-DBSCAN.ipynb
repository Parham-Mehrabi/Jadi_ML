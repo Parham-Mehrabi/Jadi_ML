{
 "cells": [
  {
   "cell_type": "markdown",
   "metadata": {},
   "source": [
    "# DBSCAN (Density Based Spatial Clustering of Application with Noise)\n",
    "\n",
    "- the cluster shapes are arbitrary \n",
    "- DBSCAN algorithm is effective for tasks like class identification\n",
    "- effective even in presence of noise\n",
    "- works based on density of objects (Density based)\n",
    "- Robust to outliers\n",
    "\n",
    "### DBSCAN VS K-Means:\n",
    "- K-means will assign each data-point to a cluster therefor there would be no __outlier__\n",
    "- DBSCAN is a density-based clustering algorithm, whereas K-Means is a centroid-based clustering algorithm.\n",
    "- DBSCAN can discover clusters of arbitrary shapes, whereas K-Means assumes that the clusters are spherical.\n",
    "- DBSCAN does not require the number of clusters to be specified in advance, whereas K-Means requires the number of clusters to be specified.\n",
    "- DBSCAN is less sensitive to initialization than K-Means.\n",
    "\n",
    "when to use which?\n",
    "- Use DBSCAN when the data has irregular shapes (since K means clusters are spherical)\n",
    "- Use K-Means when the number of clusters is known beforehand.\n",
    "- If you are unsure which algorithm to use, it is always a good idea to try both algorithms and compare their results.\n",
    "\n",
    "\n",
    "__key concepts:__\n",
    "1. R (Radius of neighborhood)\n",
    "    - Radios that if include enough number of point within, we call it a dense area\n",
    "\n",
    "2. M (Minimum numbers of neighbors)\n",
    "    - The minimum number of data points we want in a neighborhood to define a cluster\n",
    "3. Point types:\n",
    "    - __core:__ \n",
    "        - within our neighborhood of point there are at least M points\n",
    "    - __Border:__ \n",
    "        - less than M in neighborhood\n",
    "        - reachable from a core point (there is a core in neighborhood)\n",
    "    - __Outlier__:\n",
    "        - neither a core nor a border"
   ]
  },
  {
   "cell_type": "markdown",
   "metadata": {},
   "source": []
  }
 ],
 "metadata": {
  "language_info": {
   "name": "python"
  }
 },
 "nbformat": 4,
 "nbformat_minor": 2
}
